{
 "cells": [
  {
   "cell_type": "code",
   "execution_count": 41,
   "id": "9e67557b",
   "metadata": {},
   "outputs": [],
   "source": [
    "import matplotlib.pyplot as plt\n",
    "import pandas as pd\n",
    "import numpy as np\n",
    "import seaborn as sns"
   ]
  },
  {
   "cell_type": "code",
   "execution_count": 42,
   "id": "4d48f1b4",
   "metadata": {},
   "outputs": [
    {
     "data": {
      "text/html": [
       "<div>\n",
       "<style scoped>\n",
       "    .dataframe tbody tr th:only-of-type {\n",
       "        vertical-align: middle;\n",
       "    }\n",
       "\n",
       "    .dataframe tbody tr th {\n",
       "        vertical-align: top;\n",
       "    }\n",
       "\n",
       "    .dataframe thead th {\n",
       "        text-align: right;\n",
       "    }\n",
       "</style>\n",
       "<table border=\"1\" class=\"dataframe\">\n",
       "  <thead>\n",
       "    <tr style=\"text-align: right;\">\n",
       "      <th></th>\n",
       "      <th>Sentences</th>\n",
       "    </tr>\n",
       "  </thead>\n",
       "  <tbody>\n",
       "    <tr>\n",
       "      <th>0</th>\n",
       "      <td>I just landed my first acting job and I am so ...</td>\n",
       "    </tr>\n",
       "    <tr>\n",
       "      <th>1</th>\n",
       "      <td>Our family cat got stuck, and I found her. It ...</td>\n",
       "    </tr>\n",
       "    <tr>\n",
       "      <th>2</th>\n",
       "      <td>Everyone I meet rejected my friendship.</td>\n",
       "    </tr>\n",
       "    <tr>\n",
       "      <th>3</th>\n",
       "      <td>I don't understand whats so wrong with me</td>\n",
       "    </tr>\n",
       "    <tr>\n",
       "      <th>4</th>\n",
       "      <td>There is a Diwali party in my office. I can't ...</td>\n",
       "    </tr>\n",
       "  </tbody>\n",
       "</table>\n",
       "</div>"
      ],
      "text/plain": [
       "                                           Sentences\n",
       "0  I just landed my first acting job and I am so ...\n",
       "1  Our family cat got stuck, and I found her. It ...\n",
       "2            Everyone I meet rejected my friendship.\n",
       "3          I don't understand whats so wrong with me\n",
       "4  There is a Diwali party in my office. I can't ..."
      ]
     },
     "execution_count": 42,
     "metadata": {},
     "output_type": "execute_result"
    }
   ],
   "source": [
    "df=pd.read_excel(\"Sentences.xlsx\")\n",
    "df.head()"
   ]
  },
  {
   "cell_type": "code",
   "execution_count": 43,
   "id": "cedd1451",
   "metadata": {},
   "outputs": [
    {
     "name": "stderr",
     "output_type": "stream",
     "text": [
      "C:\\Users\\ad\\AppData\\Local\\Temp\\ipykernel_2540\\1368670154.py:1: FutureWarning: The default dtype for empty Series will be 'object' instead of 'float64' in a future version. Specify a dtype explicitly to silence this warning.\n",
      "  df[\"mood\"]=pd.Series()\n"
     ]
    }
   ],
   "source": [
    "df[\"mood\"]=pd.Series()"
   ]
  },
  {
   "cell_type": "code",
   "execution_count": 44,
   "id": "acb74b7b",
   "metadata": {},
   "outputs": [],
   "source": [
    "casual=[\"excited\",\"happy\",\"party\",\"good\"]\n",
    "depressed=[\"rejects\",\"bullied\",\"lonely\",\"dead\",\"wrong\"]"
   ]
  },
  {
   "cell_type": "code",
   "execution_count": 45,
   "id": "07fa59e6",
   "metadata": {},
   "outputs": [
    {
     "name": "stderr",
     "output_type": "stream",
     "text": [
      "C:\\Users\\ad\\AppData\\Local\\Temp\\ipykernel_2540\\3876753203.py:5: SettingWithCopyWarning: \n",
      "A value is trying to be set on a copy of a slice from a DataFrame\n",
      "\n",
      "See the caveats in the documentation: https://pandas.pydata.org/pandas-docs/stable/user_guide/indexing.html#returning-a-view-versus-a-copy\n",
      "  df['mood'].iloc[i1]='casual'\n"
     ]
    }
   ],
   "source": [
    "i1=0\n",
    "for i in df['Sentences']:\n",
    "    for j in casual:\n",
    "        if j in i:\n",
    "            df['mood'].iloc[i1]='casual'\n",
    "        #print(i)\n",
    "        else:\n",
    "            pass\n",
    "    for k in depressed:\n",
    "        if k in i:\n",
    "             df['mood'].iloc[i1]='depressed'\n",
    "        else:\n",
    "            pass\n",
    "   \n",
    "    i1=i1+1\n",
    "\n",
    "\n"
   ]
  },
  {
   "cell_type": "code",
   "execution_count": 46,
   "id": "32ed86dd",
   "metadata": {},
   "outputs": [
    {
     "name": "stderr",
     "output_type": "stream",
     "text": [
      "C:\\Users\\ad\\AppData\\Local\\Temp\\ipykernel_2540\\1368670154.py:1: FutureWarning: The default dtype for empty Series will be 'object' instead of 'float64' in a future version. Specify a dtype explicitly to silence this warning.\n",
      "  df[\"mood\"]=pd.Series()\n"
     ]
    }
   ],
   "source": [
    "df[\"mood\"]=pd.Series()"
   ]
  },
  {
   "cell_type": "code",
   "execution_count": 47,
   "id": "6452cb3b",
   "metadata": {},
   "outputs": [],
   "source": [
    "casual=[\"excited\",\"happy\",\"party\",\"good\"]\n",
    "depressed=[\"rejects\",\"bullied\",\"lonely\",\"dead\",\"wrong\"]"
   ]
  },
  {
   "cell_type": "code",
   "execution_count": 48,
   "id": "6d89442f",
   "metadata": {},
   "outputs": [],
   "source": [
    "\n",
    "mood = []\n",
    "for i in df[\"Sentences\"]:\n",
    "    for j in casual:\n",
    "        if j in i:\n",
    "            mood.append(\"casual\")\n",
    "            break\n",
    "    else:\n",
    "        for k in depressed:\n",
    "            if k in i:\n",
    "                mood.append(\"depressed\")\n",
    "                break\n",
    "        else:\n",
    "             mood.append(\"NONE\")\n"
   ]
  },
  {
   "cell_type": "code",
   "execution_count": 8,
   "id": "fc8d14a6",
   "metadata": {},
   "outputs": [
    {
     "data": {
      "text/plain": [
       "['casual',\n",
       " 'casual',\n",
       " 'NONE',\n",
       " 'depressed',\n",
       " 'casual',\n",
       " 'depressed',\n",
       " 'depressed',\n",
       " 'casual',\n",
       " 'depressed',\n",
       " 'casual',\n",
       " 'depressed',\n",
       " 'NONE',\n",
       " 'NONE',\n",
       " 'casual',\n",
       " 'NONE']"
      ]
     },
     "execution_count": 8,
     "metadata": {},
     "output_type": "execute_result"
    }
   ],
   "source": [
    "mood"
   ]
  }
 ],
 "metadata": {
  "kernelspec": {
   "display_name": "Python 3 (ipykernel)",
   "language": "python",
   "name": "python3"
  },
  "language_info": {
   "codemirror_mode": {
    "name": "ipython",
    "version": 3
   },
   "file_extension": ".py",
   "mimetype": "text/x-python",
   "name": "python",
   "nbconvert_exporter": "python",
   "pygments_lexer": "ipython3",
   "version": "3.9.12"
  }
 },
 "nbformat": 4,
 "nbformat_minor": 5
}
