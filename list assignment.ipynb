{
 "cells": [
  {
   "cell_type": "markdown",
   "id": "d0e2fc02",
   "metadata": {},
   "source": [
    "   ## list assignment\n",
    "   \n",
    "### Q.1 Write a Python program to sum all the items in a list"
   ]
  },
  {
   "cell_type": "code",
   "execution_count": 10,
   "id": "5689ccd2",
   "metadata": {},
   "outputs": [
    {
     "name": "stdout",
     "output_type": "stream",
     "text": [
      "sum of all tha items 55\n"
     ]
    }
   ],
   "source": [
    "l=[1,2,3,4,5,6,7,8,9,10]\n",
    "sum=0\n",
    "for i in range(0,len(l)):\n",
    "    sum=sum+l[i]\n",
    "print(\"sum of all tha items\",sum)"
   ]
  },
  {
   "cell_type": "code",
   "execution_count": 6,
   "id": "b776e16e",
   "metadata": {},
   "outputs": [
    {
     "name": "stdout",
     "output_type": "stream",
     "text": [
      "sum of all items in given list => 170\n"
     ]
    }
   ],
   "source": [
    "l=[20,40,50,60]\n",
    "total=0\n",
    "for i in range(0,len(l)):\n",
    "        total=total+l[i]\n",
    "print(\"sum of all items in given list =>\",total)"
   ]
  },
  {
   "cell_type": "markdown",
   "id": "3109c253",
   "metadata": {},
   "source": [
    "### Q.2  Write a Python program to get the smallest number from a list."
   ]
  },
  {
   "cell_type": "code",
   "execution_count": 24,
   "id": "eff9749b",
   "metadata": {},
   "outputs": [
    {
     "name": "stdout",
     "output_type": "stream",
     "text": [
      "enter tha stringelement education\n",
      "['e', 'l', 'm', 'n', 't', ' ', 'd', 'u', 'c', 'a', 'i', 'o']\n"
     ]
    }
   ],
   "source": [
    "s=input(\"enter tha string\")\n",
    "unique_list=[]\n",
    "for i in s:\n",
    "    if i not in unique_list:\n",
    "        unique_list.append(i)\n",
    "print(unique_list)"
   ]
  },
  {
   "cell_type": "code",
   "execution_count": 1,
   "id": "ab67578c",
   "metadata": {},
   "outputs": [
    {
     "name": "stdout",
     "output_type": "stream",
     "text": [
      "smallest number in tha list is = 6\n"
     ]
    }
   ],
   "source": [
    "l=[20,30,50,80,10,6,9,7]\n",
    "s=min(l)\n",
    "print(\"smallest number in tha list is =\",s)"
   ]
  },
  {
   "cell_type": "markdown",
   "id": "1ea33b23",
   "metadata": {},
   "source": [
    "### Q.3 Write a program to find unique elements of string specified by user and display unique elements in list"
   ]
  },
  {
   "cell_type": "code",
   "execution_count": 6,
   "id": "5dd0eb56",
   "metadata": {},
   "outputs": [
    {
     "name": "stdout",
     "output_type": "stream",
     "text": [
      "enter a stringelement\n",
      "['e', 'l', 'm', 'n', 't']\n"
     ]
    }
   ],
   "source": [
    "s=input(\"enter a string\")\n",
    "unique_list=[]\n",
    "for i in s:\n",
    "    if i not in unique_list:\n",
    "        unique_list.append(i)\n",
    "print(unique_list)"
   ]
  },
  {
   "cell_type": "markdown",
   "id": "c9c1898e",
   "metadata": {},
   "source": [
    "### Q.4 Write a Python programr and  to print a specified list after remmenoving the 0th, 4th and 5th elements.\n",
    "Sample List : ['Red', 'Green', 'White', 'Black', 'Pink', 'Yellow']\n",
    "Expected Output : ['Green', 'White', 'Black']"
   ]
  },
  {
   "cell_type": "code",
   "execution_count": 2,
   "id": "6330f0db",
   "metadata": {},
   "outputs": [
    {
     "data": {
      "text/plain": [
       "['green', 'white', 'black']"
      ]
     },
     "execution_count": 2,
     "metadata": {},
     "output_type": "execute_result"
    }
   ],
   "source": [
    "l=[\"red\",\"green\",\"white\",\"black\",\"pink\",\"yellow\"]  \n",
    "l[1:4]\n"
   ]
  },
  {
   "cell_type": "markdown",
   "id": "d0823b68",
   "metadata": {},
   "source": [
    "### Q.5 Write a program to display all the elements of odd position."
   ]
  },
  {
   "cell_type": "code",
   "execution_count": 27,
   "id": "7ae4e76a",
   "metadata": {
    "scrolled": true
   },
   "outputs": [
    {
     "name": "stdout",
     "output_type": "stream",
     "text": [
      "5\n",
      "5\n",
      "7\n",
      "9\n",
      "5\n",
      "1\n",
      "11\n",
      "13\n",
      "19\n"
     ]
    }
   ],
   "source": [
    "l=[5,5,7,9,2,4,5,1,11,13,19]\n",
    "for i in l:\n",
    "    if i%2!=0:\n",
    "        print(i)\n"
   ]
  },
  {
   "cell_type": "markdown",
   "id": "b28cc894",
   "metadata": {},
   "source": [
    "### Q.6 Write a Python program to convert a string to a list."
   ]
  },
  {
   "cell_type": "code",
   "execution_count": 31,
   "id": "08ae81a5",
   "metadata": {},
   "outputs": [
    {
     "name": "stdout",
     "output_type": "stream",
     "text": [
      "['python', 'core']\n"
     ]
    }
   ],
   "source": [
    "s=\"python core\"\n",
    "l=s.split()\n",
    "print(l)"
   ]
  },
  {
   "cell_type": "code",
   "execution_count": 61,
   "id": "ab56adb6",
   "metadata": {},
   "outputs": [
    {
     "name": "stdout",
     "output_type": "stream",
     "text": [
      "enter tha stringwelcome to class everyone\n",
      "['welcome', 'to', 'class', 'everyone']\n"
     ]
    }
   ],
   "source": [
    "s=input(\"enter tha string\")\n",
    "l=s.split()\n",
    "print(l)"
   ]
  },
  {
   "cell_type": "markdown",
   "id": "5bd47ec3",
   "metadata": {},
   "source": [
    "### Q.7 Write a Python program to insert an element at a specified position into a given list.\n",
    "Original list:\n",
    "[1, 1, 2, 3, 4, 4, 5, 1]\n",
    "After inserting an element at kth position in the said list:\n",
    "[1, 1, 12, 2, 3, 4, 4, 5, 1]\n"
   ]
  },
  {
   "cell_type": "code",
   "execution_count": 30,
   "id": "6bdc30f0",
   "metadata": {},
   "outputs": [
    {
     "name": "stdout",
     "output_type": "stream",
     "text": [
      "[1, 1, 12, 3, 4, 4, 5, 1]\n"
     ]
    }
   ],
   "source": [
    "list=[1,1,2,3,4,4,5,1]\n",
    "list[2]=12\n",
    "print(list)"
   ]
  },
  {
   "cell_type": "markdown",
   "id": "379aa879",
   "metadata": {},
   "source": [
    "### Q.8 How to reverse the List using slice."
   ]
  },
  {
   "cell_type": "code",
   "execution_count": 26,
   "id": "7ea8bb56",
   "metadata": {},
   "outputs": [
    {
     "name": "stdout",
     "output_type": "stream",
     "text": [
      "['apple', 'banana', 'fig', 'lichi']\n"
     ]
    },
    {
     "data": {
      "text/plain": [
       "['lichi', 'fig', 'banana', 'apple']"
      ]
     },
     "execution_count": 26,
     "metadata": {},
     "output_type": "execute_result"
    }
   ],
   "source": [
    "list=[\"apple\",\"banana\",\"fig\",\"lichi\"]\n",
    "print(list)\n",
    "list[::-1]"
   ]
  },
  {
   "cell_type": "markdown",
   "id": "4993a959",
   "metadata": {},
   "source": [
    "### Q.10 Program to convert a list into string"
   ]
  },
  {
   "cell_type": "code",
   "execution_count": 7,
   "id": "d9c1b291",
   "metadata": {},
   "outputs": [
    {
     "name": "stdout",
     "output_type": "stream",
     "text": [
      "['monday', 'tuesday', 'wednesday', 'thrusday', 'firday', 'saturday', 'sunday']\n",
      "monday tuesday wednesday thrusday firday saturday sunday\n"
     ]
    },
    {
     "data": {
      "text/plain": [
       "str"
      ]
     },
     "execution_count": 7,
     "metadata": {},
     "output_type": "execute_result"
    }
   ],
   "source": [
    "list=[\"monday\",\"tuesday\",\"wednesday\",\"thrusday\",\"firday\",\"saturday\",\"sunday\"]\n",
    "s=\" \".join(list)\n",
    "print(list)\n",
    "print(s)\n",
    "type(s)"
   ]
  },
  {
   "cell_type": "markdown",
   "id": "774042fe",
   "metadata": {},
   "source": [
    "### Q.11 How to get the square of each list element between two range.\n",
    " "
   ]
  },
  {
   "cell_type": "code",
   "execution_count": 10,
   "id": "1f782d6f",
   "metadata": {},
   "outputs": [],
   "source": [
    "l=[2,3,4,5,6,7,8,9,10,11,12,13,14,15]\n",
    "for i in l:\n",
    "    if l==i*i:\n",
    "         print(l)\n",
    "    \n",
    "    \n"
   ]
  },
  {
   "cell_type": "markdown",
   "id": "e1b9a5a4",
   "metadata": {},
   "source": [
    "### Q.12 How to Filter even values from a list using list comprehension\n",
    " "
   ]
  },
  {
   "cell_type": "code",
   "execution_count": 36,
   "id": "ed493a8f",
   "metadata": {},
   "outputs": [
    {
     "data": {
      "text/plain": [
       "[2, 4, 6, 8, 10, 12, 14, 16, 18, 20]"
      ]
     },
     "execution_count": 36,
     "metadata": {},
     "output_type": "execute_result"
    }
   ],
   "source": [
    "list=[1,2,3,4,5,6,7,8,10,11,12,13,14,15,16,17,18,19,20]\n",
    "[i for i in list if i%2==0]\n"
   ]
  },
  {
   "cell_type": "markdown",
   "id": "d7e54c45",
   "metadata": {},
   "source": [
    "### Q.13 How to remove elements in a list before a specific index"
   ]
  },
  {
   "cell_type": "code",
   "execution_count": 39,
   "id": "a4fe7436",
   "metadata": {},
   "outputs": [
    {
     "name": "stdout",
     "output_type": "stream",
     "text": [
      "enter tha index to remove elements before it30\n",
      "[]\n"
     ]
    }
   ],
   "source": [
    "l1=[20,30,40,50,60,70]\n",
    "l2=int(input(\"enter tha index to remove elements before it\"))\n",
    "x=l1[l2:]\n",
    "print(x)"
   ]
  },
  {
   "cell_type": "code",
   "execution_count": null,
   "id": "91dda6b4",
   "metadata": {},
   "outputs": [],
   "source": []
  },
  {
   "cell_type": "code",
   "execution_count": null,
   "id": "6112eafa",
   "metadata": {},
   "outputs": [],
   "source": []
  }
 ],
 "metadata": {
  "kernelspec": {
   "display_name": "Python 3 (ipykernel)",
   "language": "python",
   "name": "python3"
  },
  "language_info": {
   "codemirror_mode": {
    "name": "ipython",
    "version": 3
   },
   "file_extension": ".py",
   "mimetype": "text/x-python",
   "name": "python",
   "nbconvert_exporter": "python",
   "pygments_lexer": "ipython3",
   "version": "3.9.12"
  }
 },
 "nbformat": 4,
 "nbformat_minor": 5
}
